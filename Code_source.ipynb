{
 "cells": [
  {
   "cell_type": "code",
   "execution_count": 55,
   "metadata": {},
   "outputs": [],
   "source": [
    "import numpy as np\n",
    "import pandas as pd\n",
    "import matplotlib.pyplot as plt\n",
    "import seaborn as sns"
   ]
  },
  {
   "cell_type": "code",
   "execution_count": 2,
   "metadata": {},
   "outputs": [
    {
     "name": "stderr",
     "output_type": "stream",
     "text": [
      "C:\\Users\\Mohammed\\anaconda3\\lib\\site-packages\\IPython\\core\\interactiveshell.py:3146: DtypeWarning: Columns (14,17) have mixed types.Specify dtype option on import or set low_memory=False.\n",
      "  has_raised = await self.run_ast_nodes(code_ast.body, cell_name,\n"
     ]
    }
   ],
   "source": [
    "client = pd.read_csv(\"clients.csv\")\n",
    "transaction = pd.read_csv(\"transactions.csv\")"
   ]
  },
  {
   "cell_type": "code",
   "execution_count": 4,
   "metadata": {},
   "outputs": [
    {
     "data": {
      "text/html": [
       "<div>\n",
       "<style scoped>\n",
       "    .dataframe tbody tr th:only-of-type {\n",
       "        vertical-align: middle;\n",
       "    }\n",
       "\n",
       "    .dataframe tbody tr th {\n",
       "        vertical-align: top;\n",
       "    }\n",
       "\n",
       "    .dataframe thead th {\n",
       "        text-align: right;\n",
       "    }\n",
       "</style>\n",
       "<table border=\"1\" class=\"dataframe\">\n",
       "  <thead>\n",
       "    <tr style=\"text-align: right;\">\n",
       "      <th></th>\n",
       "      <th>banque</th>\n",
       "      <th>agence</th>\n",
       "      <th>generic</th>\n",
       "      <th>plural</th>\n",
       "      <th>ccle</th>\n",
       "      <th>pnb</th>\n",
       "      <th>code_ville</th>\n",
       "      <th>ville</th>\n",
       "      <th>flag_etranger_res_maroc</th>\n",
       "      <th>flag_proprietaire_logement</th>\n",
       "      <th>...</th>\n",
       "      <th>flag_app_mobile</th>\n",
       "      <th>sexe</th>\n",
       "      <th>date_naissance</th>\n",
       "      <th>salary</th>\n",
       "      <th>profession</th>\n",
       "      <th>nombre_enfant</th>\n",
       "      <th>marital_status</th>\n",
       "      <th>date_eer</th>\n",
       "      <th>segment</th>\n",
       "      <th>id</th>\n",
       "    </tr>\n",
       "  </thead>\n",
       "  <tbody>\n",
       "    <tr>\n",
       "      <th>0</th>\n",
       "      <td>1</td>\n",
       "      <td>2</td>\n",
       "      <td>21111</td>\n",
       "      <td>0</td>\n",
       "      <td>9</td>\n",
       "      <td>1022,21</td>\n",
       "      <td>10</td>\n",
       "      <td>AGADIR</td>\n",
       "      <td>N</td>\n",
       "      <td>N</td>\n",
       "      <td>...</td>\n",
       "      <td>N</td>\n",
       "      <td>Homme</td>\n",
       "      <td>19571210.0</td>\n",
       "      <td>0</td>\n",
       "      <td>NaN</td>\n",
       "      <td>NaN</td>\n",
       "      <td>3</td>\n",
       "      <td>07/05/1991</td>\n",
       "      <td>PARTICULIER</td>\n",
       "      <td>87631</td>\n",
       "    </tr>\n",
       "    <tr>\n",
       "      <th>1</th>\n",
       "      <td>1</td>\n",
       "      <td>2</td>\n",
       "      <td>21111</td>\n",
       "      <td>0</td>\n",
       "      <td>6</td>\n",
       "      <td>224,41</td>\n",
       "      <td>10</td>\n",
       "      <td>AGADIR</td>\n",
       "      <td>N</td>\n",
       "      <td>N</td>\n",
       "      <td>...</td>\n",
       "      <td>N</td>\n",
       "      <td>Homme</td>\n",
       "      <td>19610505.0</td>\n",
       "      <td>0</td>\n",
       "      <td>NaN</td>\n",
       "      <td>NaN</td>\n",
       "      <td>3</td>\n",
       "      <td>20/05/1991</td>\n",
       "      <td>PARTICULIER</td>\n",
       "      <td>120851</td>\n",
       "    </tr>\n",
       "    <tr>\n",
       "      <th>2</th>\n",
       "      <td>1</td>\n",
       "      <td>2</td>\n",
       "      <td>21111</td>\n",
       "      <td>0</td>\n",
       "      <td>7</td>\n",
       "      <td>23940,36</td>\n",
       "      <td>10</td>\n",
       "      <td>AGADIR</td>\n",
       "      <td>N</td>\n",
       "      <td>N</td>\n",
       "      <td>...</td>\n",
       "      <td>O</td>\n",
       "      <td>Homme</td>\n",
       "      <td>19680101.0</td>\n",
       "      <td>10000</td>\n",
       "      <td>NaN</td>\n",
       "      <td>2.0</td>\n",
       "      <td>3</td>\n",
       "      <td>07/06/1991</td>\n",
       "      <td>PARTICULIER</td>\n",
       "      <td>28206</td>\n",
       "    </tr>\n",
       "    <tr>\n",
       "      <th>3</th>\n",
       "      <td>1</td>\n",
       "      <td>2</td>\n",
       "      <td>21111</td>\n",
       "      <td>0</td>\n",
       "      <td>3</td>\n",
       "      <td>9,45</td>\n",
       "      <td>10</td>\n",
       "      <td>AGADIR</td>\n",
       "      <td>N</td>\n",
       "      <td>N</td>\n",
       "      <td>...</td>\n",
       "      <td>N</td>\n",
       "      <td>Homme</td>\n",
       "      <td>19660910.0</td>\n",
       "      <td>0</td>\n",
       "      <td>NaN</td>\n",
       "      <td>NaN</td>\n",
       "      <td>3</td>\n",
       "      <td>25/11/1991</td>\n",
       "      <td>PARTICULIER</td>\n",
       "      <td>144072</td>\n",
       "    </tr>\n",
       "    <tr>\n",
       "      <th>4</th>\n",
       "      <td>1</td>\n",
       "      <td>2</td>\n",
       "      <td>21111</td>\n",
       "      <td>0</td>\n",
       "      <td>2</td>\n",
       "      <td>1393,3</td>\n",
       "      <td>240</td>\n",
       "      <td>ESSAOUIRA</td>\n",
       "      <td>N</td>\n",
       "      <td>N</td>\n",
       "      <td>...</td>\n",
       "      <td>N</td>\n",
       "      <td>Homme</td>\n",
       "      <td>19840119.0</td>\n",
       "      <td>3000</td>\n",
       "      <td>NaN</td>\n",
       "      <td>NaN</td>\n",
       "      <td>1</td>\n",
       "      <td>30/05/2005</td>\n",
       "      <td>PARTICULIER</td>\n",
       "      <td>78120</td>\n",
       "    </tr>\n",
       "  </tbody>\n",
       "</table>\n",
       "<p>5 rows × 21 columns</p>\n",
       "</div>"
      ],
      "text/plain": [
       "   banque  agence  generic  plural  ccle       pnb  code_ville      ville  \\\n",
       "0       1       2    21111       0     9   1022,21          10     AGADIR   \n",
       "1       1       2    21111       0     6    224,41          10     AGADIR   \n",
       "2       1       2    21111       0     7  23940,36          10     AGADIR   \n",
       "3       1       2    21111       0     3      9,45          10     AGADIR   \n",
       "4       1       2    21111       0     2    1393,3         240  ESSAOUIRA   \n",
       "\n",
       "  flag_etranger_res_maroc flag_proprietaire_logement  ... flag_app_mobile  \\\n",
       "0                       N                          N  ...               N   \n",
       "1                       N                          N  ...               N   \n",
       "2                       N                          N  ...               O   \n",
       "3                       N                          N  ...               N   \n",
       "4                       N                          N  ...               N   \n",
       "\n",
       "    sexe date_naissance  salary profession nombre_enfant  marital_status  \\\n",
       "0  Homme     19571210.0       0        NaN           NaN               3   \n",
       "1  Homme     19610505.0       0        NaN           NaN               3   \n",
       "2  Homme     19680101.0   10000        NaN           2.0               3   \n",
       "3  Homme     19660910.0       0        NaN           NaN               3   \n",
       "4  Homme     19840119.0    3000        NaN           NaN               1   \n",
       "\n",
       "     date_eer      segment      id  \n",
       "0  07/05/1991  PARTICULIER   87631  \n",
       "1  20/05/1991  PARTICULIER  120851  \n",
       "2  07/06/1991  PARTICULIER   28206  \n",
       "3  25/11/1991  PARTICULIER  144072  \n",
       "4  30/05/2005  PARTICULIER   78120  \n",
       "\n",
       "[5 rows x 21 columns]"
      ]
     },
     "execution_count": 4,
     "metadata": {},
     "output_type": "execute_result"
    }
   ],
   "source": [
    "client.head()"
   ]
  },
  {
   "cell_type": "code",
   "execution_count": 5,
   "metadata": {},
   "outputs": [
    {
     "data": {
      "text/html": [
       "<div>\n",
       "<style scoped>\n",
       "    .dataframe tbody tr th:only-of-type {\n",
       "        vertical-align: middle;\n",
       "    }\n",
       "\n",
       "    .dataframe tbody tr th {\n",
       "        vertical-align: top;\n",
       "    }\n",
       "\n",
       "    .dataframe thead th {\n",
       "        text-align: right;\n",
       "    }\n",
       "</style>\n",
       "<table border=\"1\" class=\"dataframe\">\n",
       "  <thead>\n",
       "    <tr style=\"text-align: right;\">\n",
       "      <th></th>\n",
       "      <th>ANNEE</th>\n",
       "      <th>MOIS</th>\n",
       "      <th>SEMAINE</th>\n",
       "      <th>NBRE_TRANSACTION</th>\n",
       "      <th>MONTANT</th>\n",
       "      <th>SENS_TRANSACTION</th>\n",
       "      <th>DWP</th>\n",
       "      <th>id</th>\n",
       "    </tr>\n",
       "  </thead>\n",
       "  <tbody>\n",
       "    <tr>\n",
       "      <th>0</th>\n",
       "      <td>2017</td>\n",
       "      <td>11</td>\n",
       "      <td>44</td>\n",
       "      <td>3</td>\n",
       "      <td>-2104.0</td>\n",
       "      <td>Débit</td>\n",
       "      <td>201711</td>\n",
       "      <td>54654</td>\n",
       "    </tr>\n",
       "    <tr>\n",
       "      <th>1</th>\n",
       "      <td>2017</td>\n",
       "      <td>11</td>\n",
       "      <td>44</td>\n",
       "      <td>1</td>\n",
       "      <td>-3.0</td>\n",
       "      <td>Débit</td>\n",
       "      <td>201711</td>\n",
       "      <td>49846</td>\n",
       "    </tr>\n",
       "    <tr>\n",
       "      <th>2</th>\n",
       "      <td>2017</td>\n",
       "      <td>11</td>\n",
       "      <td>44</td>\n",
       "      <td>1</td>\n",
       "      <td>-1.0</td>\n",
       "      <td>Débit</td>\n",
       "      <td>201711</td>\n",
       "      <td>191415</td>\n",
       "    </tr>\n",
       "    <tr>\n",
       "      <th>3</th>\n",
       "      <td>2017</td>\n",
       "      <td>11</td>\n",
       "      <td>44</td>\n",
       "      <td>1</td>\n",
       "      <td>-1200.0</td>\n",
       "      <td>Débit</td>\n",
       "      <td>201711</td>\n",
       "      <td>189507</td>\n",
       "    </tr>\n",
       "    <tr>\n",
       "      <th>4</th>\n",
       "      <td>2017</td>\n",
       "      <td>11</td>\n",
       "      <td>44</td>\n",
       "      <td>3</td>\n",
       "      <td>-900.0</td>\n",
       "      <td>Débit</td>\n",
       "      <td>201711</td>\n",
       "      <td>5319</td>\n",
       "    </tr>\n",
       "  </tbody>\n",
       "</table>\n",
       "</div>"
      ],
      "text/plain": [
       "   ANNEE  MOIS  SEMAINE  NBRE_TRANSACTION  MONTANT SENS_TRANSACTION     DWP  \\\n",
       "0   2017    11       44                 3  -2104.0            Débit  201711   \n",
       "1   2017    11       44                 1     -3.0            Débit  201711   \n",
       "2   2017    11       44                 1     -1.0            Débit  201711   \n",
       "3   2017    11       44                 1  -1200.0            Débit  201711   \n",
       "4   2017    11       44                 3   -900.0            Débit  201711   \n",
       "\n",
       "       id  \n",
       "0   54654  \n",
       "1   49846  \n",
       "2  191415  \n",
       "3  189507  \n",
       "4    5319  "
      ]
     },
     "execution_count": 5,
     "metadata": {},
     "output_type": "execute_result"
    }
   ],
   "source": [
    "transaction.head()"
   ]
  },
  {
   "cell_type": "markdown",
   "metadata": {},
   "source": [
    "# Pre-processing"
   ]
  },
  {
   "cell_type": "markdown",
   "metadata": {},
   "source": [
    "### Missing values"
   ]
  },
  {
   "cell_type": "code",
   "execution_count": 10,
   "metadata": {},
   "outputs": [
    {
     "data": {
      "text/plain": [
       "banque                             0\n",
       "agence                             0\n",
       "generic                            0\n",
       "plural                             0\n",
       "ccle                               0\n",
       "pnb                            13083\n",
       "code_ville                         0\n",
       "ville                              0\n",
       "flag_etranger_res_maroc            0\n",
       "flag_proprietaire_logement         0\n",
       "secteur_activite                   0\n",
       "flag_app_mobile                    0\n",
       "sexe                            1649\n",
       "date_naissance                  1091\n",
       "salary                             0\n",
       "profession                    242280\n",
       "nombre_enfant                  96823\n",
       "marital_status                  1091\n",
       "date_eer                           0\n",
       "segment                            0\n",
       "id                                 0\n",
       "dtype: int64"
      ]
     },
     "execution_count": 10,
     "metadata": {},
     "output_type": "execute_result"
    }
   ],
   "source": [
    "client.isnull().sum()"
   ]
  },
  {
   "cell_type": "markdown",
   "metadata": {},
   "source": [
    "### Duplicate"
   ]
  },
  {
   "cell_type": "code",
   "execution_count": 14,
   "metadata": {},
   "outputs": [
    {
     "data": {
      "text/plain": [
       "27"
      ]
     },
     "execution_count": 14,
     "metadata": {},
     "output_type": "execute_result"
    }
   ],
   "source": [
    "client.duplicated().sum()"
   ]
  },
  {
   "cell_type": "markdown",
   "metadata": {},
   "source": [
    "# Create the feautures"
   ]
  },
  {
   "cell_type": "markdown",
   "metadata": {},
   "source": [
    "### List of date (By 6 months)"
   ]
  },
  {
   "cell_type": "code",
   "execution_count": 15,
   "metadata": {},
   "outputs": [],
   "source": [
    "listid = client['id'].unique()\n",
    "listdates = [201707, 201710, 201801, 201804, 201807, 201810, 201901, 201904, 201907, 201910]"
   ]
  },
  {
   "cell_type": "markdown",
   "metadata": {},
   "source": [
    "### Age"
   ]
  },
  {
   "cell_type": "code",
   "execution_count": 16,
   "metadata": {},
   "outputs": [],
   "source": [
    "def compute_int_age_at_timestamp(df, list_clients, list_dates):\n",
    "    df.loc[df.date_naissance < 19000000,'date_naissance'] = None\n",
    "    df_clients = df[df.id.isin(list_clients)][['id', 'date_naissance']]\n",
    "    df_clients.date_naissance = pd.to_datetime(df_clients.date_naissance, format='%Y%m%d')\n",
    "    df_dates = pd.DataFrame(list_dates, columns=['DWP'])\n",
    "    df_res = df_dates.assign(temp=1).merge(df_clients.assign(temp=1)).drop(\"temp\", 1)\n",
    "    df_res['AGE'] = df_res.DWP // 100 - df_res.date_naissance.dt.year\n",
    "\n",
    "    return df_res[['DWP', 'id', 'AGE']]"
   ]
  },
  {
   "cell_type": "code",
   "execution_count": 17,
   "metadata": {},
   "outputs": [],
   "source": [
    "df_AGE=compute_int_age_at_timestamp(client, listid, listdates)"
   ]
  },
  {
   "cell_type": "code",
   "execution_count": 18,
   "metadata": {},
   "outputs": [
    {
     "data": {
      "text/html": [
       "<div>\n",
       "<style scoped>\n",
       "    .dataframe tbody tr th:only-of-type {\n",
       "        vertical-align: middle;\n",
       "    }\n",
       "\n",
       "    .dataframe tbody tr th {\n",
       "        vertical-align: top;\n",
       "    }\n",
       "\n",
       "    .dataframe thead th {\n",
       "        text-align: right;\n",
       "    }\n",
       "</style>\n",
       "<table border=\"1\" class=\"dataframe\">\n",
       "  <thead>\n",
       "    <tr style=\"text-align: right;\">\n",
       "      <th></th>\n",
       "      <th>DWP</th>\n",
       "      <th>id</th>\n",
       "      <th>AGE</th>\n",
       "    </tr>\n",
       "  </thead>\n",
       "  <tbody>\n",
       "    <tr>\n",
       "      <th>0</th>\n",
       "      <td>201707</td>\n",
       "      <td>87631</td>\n",
       "      <td>60.0</td>\n",
       "    </tr>\n",
       "    <tr>\n",
       "      <th>1</th>\n",
       "      <td>201707</td>\n",
       "      <td>120851</td>\n",
       "      <td>56.0</td>\n",
       "    </tr>\n",
       "    <tr>\n",
       "      <th>2</th>\n",
       "      <td>201707</td>\n",
       "      <td>28206</td>\n",
       "      <td>49.0</td>\n",
       "    </tr>\n",
       "    <tr>\n",
       "      <th>3</th>\n",
       "      <td>201707</td>\n",
       "      <td>144072</td>\n",
       "      <td>51.0</td>\n",
       "    </tr>\n",
       "  </tbody>\n",
       "</table>\n",
       "</div>"
      ],
      "text/plain": [
       "      DWP      id   AGE\n",
       "0  201707   87631  60.0\n",
       "1  201707  120851  56.0\n",
       "2  201707   28206  49.0\n",
       "3  201707  144072  51.0"
      ]
     },
     "execution_count": 18,
     "metadata": {},
     "output_type": "execute_result"
    }
   ],
   "source": [
    "df_AGE.head(4)"
   ]
  },
  {
   "cell_type": "markdown",
   "metadata": {},
   "source": [
    "### Select the six dominant cities and binarise them"
   ]
  },
  {
   "cell_type": "code",
   "execution_count": 19,
   "metadata": {},
   "outputs": [],
   "source": [
    "def binarise_top_n(df, column, replacement, number):\n",
    "    top_cities = df[column].value_counts().head(number).index\n",
    "    other_cities = list(set(df[column]) - set(top_cities))\n",
    "    one_hot_encoded_data = pd.get_dummies(df[column].replace(other_cities, replacement))\n",
    "    one_hot_encoded_data['ID'] = df.id\n",
    "    return one_hot_encoded_data"
   ]
  },
  {
   "cell_type": "code",
   "execution_count": 20,
   "metadata": {},
   "outputs": [],
   "source": [
    "df_VILLE = binarise_top_n(client, 'ville', 'AUTRE', 6)"
   ]
  },
  {
   "cell_type": "code",
   "execution_count": 22,
   "metadata": {},
   "outputs": [
    {
     "data": {
      "text/html": [
       "<div>\n",
       "<style scoped>\n",
       "    .dataframe tbody tr th:only-of-type {\n",
       "        vertical-align: middle;\n",
       "    }\n",
       "\n",
       "    .dataframe tbody tr th {\n",
       "        vertical-align: top;\n",
       "    }\n",
       "\n",
       "    .dataframe thead th {\n",
       "        text-align: right;\n",
       "    }\n",
       "</style>\n",
       "<table border=\"1\" class=\"dataframe\">\n",
       "  <thead>\n",
       "    <tr style=\"text-align: right;\">\n",
       "      <th></th>\n",
       "      <th>AUTRE</th>\n",
       "      <th>CASABLANCA</th>\n",
       "      <th>FES</th>\n",
       "      <th>MARRAKECH</th>\n",
       "      <th>RABAT</th>\n",
       "      <th>SALE</th>\n",
       "      <th>TANGER</th>\n",
       "      <th>ID</th>\n",
       "    </tr>\n",
       "  </thead>\n",
       "  <tbody>\n",
       "    <tr>\n",
       "      <th>0</th>\n",
       "      <td>1</td>\n",
       "      <td>0</td>\n",
       "      <td>0</td>\n",
       "      <td>0</td>\n",
       "      <td>0</td>\n",
       "      <td>0</td>\n",
       "      <td>0</td>\n",
       "      <td>87631</td>\n",
       "    </tr>\n",
       "    <tr>\n",
       "      <th>1</th>\n",
       "      <td>1</td>\n",
       "      <td>0</td>\n",
       "      <td>0</td>\n",
       "      <td>0</td>\n",
       "      <td>0</td>\n",
       "      <td>0</td>\n",
       "      <td>0</td>\n",
       "      <td>120851</td>\n",
       "    </tr>\n",
       "    <tr>\n",
       "      <th>2</th>\n",
       "      <td>1</td>\n",
       "      <td>0</td>\n",
       "      <td>0</td>\n",
       "      <td>0</td>\n",
       "      <td>0</td>\n",
       "      <td>0</td>\n",
       "      <td>0</td>\n",
       "      <td>28206</td>\n",
       "    </tr>\n",
       "  </tbody>\n",
       "</table>\n",
       "</div>"
      ],
      "text/plain": [
       "   AUTRE  CASABLANCA  FES  MARRAKECH  RABAT  SALE  TANGER      ID\n",
       "0      1           0    0          0      0     0       0   87631\n",
       "1      1           0    0          0      0     0       0  120851\n",
       "2      1           0    0          0      0     0       0   28206"
      ]
     },
     "execution_count": 22,
     "metadata": {},
     "output_type": "execute_result"
    }
   ],
   "source": [
    "df_VILLE.head(3)"
   ]
  },
  {
   "cell_type": "markdown",
   "metadata": {},
   "source": [
    "### Binarise the marital status"
   ]
  },
  {
   "cell_type": "code",
   "execution_count": 24,
   "metadata": {},
   "outputs": [],
   "source": [
    "def binarise_marital_status(df, marital_status, list_clients):\n",
    "    \"\"\"\n",
    "   :param df: pandas DataFrame\n",
    "   :param marital_status: categorical variable\n",
    "   :param list_clients: list of customers\n",
    "   :return: pandas DataFrame\n",
    "   \"\"\"\n",
    "    # Map values of column marital_status according to input correspondence\n",
    "    clients_df = df[df.id.isin(list_clients)]\n",
    "    clients_df[marital_status] = clients_df[marital_status].map(\n",
    "        {1.0: 'SINGLE', '1': 'SINGLE', 2.0: 'DIVORCED', '2': 'DIVORCED', 3.0: 'MARRIED', '3': 'MARRIED', 4.0: 'WIDOWED',\n",
    "         '4': 'WIDOWED', 9.0: 'OTHER', '9': 'OTHER', 'PARTNER': 'OTHER', np.nan: 'OTHER'})\n",
    "\n",
    "    # Dummify column marital_status\n",
    "    df_res = pd.DataFrame(pd.get_dummies(clients_df[marital_status]))\n",
    "    df_res['ID'] = clients_df.id\n",
    "    return df_res"
   ]
  },
  {
   "cell_type": "code",
   "execution_count": 25,
   "metadata": {},
   "outputs": [],
   "source": [
    "df_MARITAL = binarise_marital_status(client, 'marital_status', listid)"
   ]
  },
  {
   "cell_type": "code",
   "execution_count": 28,
   "metadata": {
    "scrolled": true
   },
   "outputs": [
    {
     "data": {
      "text/html": [
       "<div>\n",
       "<style scoped>\n",
       "    .dataframe tbody tr th:only-of-type {\n",
       "        vertical-align: middle;\n",
       "    }\n",
       "\n",
       "    .dataframe tbody tr th {\n",
       "        vertical-align: top;\n",
       "    }\n",
       "\n",
       "    .dataframe thead th {\n",
       "        text-align: right;\n",
       "    }\n",
       "</style>\n",
       "<table border=\"1\" class=\"dataframe\">\n",
       "  <thead>\n",
       "    <tr style=\"text-align: right;\">\n",
       "      <th></th>\n",
       "      <th>DIVORCED</th>\n",
       "      <th>MARRIED</th>\n",
       "      <th>OTHER</th>\n",
       "      <th>SINGLE</th>\n",
       "      <th>WIDOWED</th>\n",
       "      <th>ID</th>\n",
       "    </tr>\n",
       "  </thead>\n",
       "  <tbody>\n",
       "    <tr>\n",
       "      <th>0</th>\n",
       "      <td>0</td>\n",
       "      <td>1</td>\n",
       "      <td>0</td>\n",
       "      <td>0</td>\n",
       "      <td>0</td>\n",
       "      <td>87631</td>\n",
       "    </tr>\n",
       "    <tr>\n",
       "      <th>1</th>\n",
       "      <td>0</td>\n",
       "      <td>1</td>\n",
       "      <td>0</td>\n",
       "      <td>0</td>\n",
       "      <td>0</td>\n",
       "      <td>120851</td>\n",
       "    </tr>\n",
       "    <tr>\n",
       "      <th>2</th>\n",
       "      <td>0</td>\n",
       "      <td>1</td>\n",
       "      <td>0</td>\n",
       "      <td>0</td>\n",
       "      <td>0</td>\n",
       "      <td>28206</td>\n",
       "    </tr>\n",
       "    <tr>\n",
       "      <th>3</th>\n",
       "      <td>0</td>\n",
       "      <td>1</td>\n",
       "      <td>0</td>\n",
       "      <td>0</td>\n",
       "      <td>0</td>\n",
       "      <td>144072</td>\n",
       "    </tr>\n",
       "    <tr>\n",
       "      <th>4</th>\n",
       "      <td>0</td>\n",
       "      <td>0</td>\n",
       "      <td>0</td>\n",
       "      <td>1</td>\n",
       "      <td>0</td>\n",
       "      <td>78120</td>\n",
       "    </tr>\n",
       "  </tbody>\n",
       "</table>\n",
       "</div>"
      ],
      "text/plain": [
       "   DIVORCED  MARRIED  OTHER  SINGLE  WIDOWED      ID\n",
       "0         0        1      0       0        0   87631\n",
       "1         0        1      0       0        0  120851\n",
       "2         0        1      0       0        0   28206\n",
       "3         0        1      0       0        0  144072\n",
       "4         0        0      0       1        0   78120"
      ]
     },
     "execution_count": 28,
     "metadata": {},
     "output_type": "execute_result"
    }
   ],
   "source": [
    "df_MARITAL.head()"
   ]
  },
  {
   "cell_type": "markdown",
   "metadata": {},
   "source": [
    "### PNB"
   ]
  },
  {
   "cell_type": "code",
   "execution_count": 30,
   "metadata": {},
   "outputs": [],
   "source": [
    "def PNB(df):\n",
    "    df.pnb=client.pnb.astype(str).map(lambda x:x.replace(\",\",\".\"))\n",
    "    df.pnb.astype(float)\n",
    "    df.drop_duplicates(\"id\", inplace = True)\n",
    "    return(df[[\"id\",\"pnb\"]])"
   ]
  },
  {
   "cell_type": "code",
   "execution_count": 31,
   "metadata": {},
   "outputs": [],
   "source": [
    "df_PNB = PNB(client)"
   ]
  },
  {
   "cell_type": "code",
   "execution_count": 32,
   "metadata": {},
   "outputs": [
    {
     "data": {
      "text/html": [
       "<div>\n",
       "<style scoped>\n",
       "    .dataframe tbody tr th:only-of-type {\n",
       "        vertical-align: middle;\n",
       "    }\n",
       "\n",
       "    .dataframe tbody tr th {\n",
       "        vertical-align: top;\n",
       "    }\n",
       "\n",
       "    .dataframe thead th {\n",
       "        text-align: right;\n",
       "    }\n",
       "</style>\n",
       "<table border=\"1\" class=\"dataframe\">\n",
       "  <thead>\n",
       "    <tr style=\"text-align: right;\">\n",
       "      <th></th>\n",
       "      <th>id</th>\n",
       "      <th>pnb</th>\n",
       "    </tr>\n",
       "  </thead>\n",
       "  <tbody>\n",
       "    <tr>\n",
       "      <th>0</th>\n",
       "      <td>87631</td>\n",
       "      <td>1022.21</td>\n",
       "    </tr>\n",
       "    <tr>\n",
       "      <th>1</th>\n",
       "      <td>120851</td>\n",
       "      <td>224.41</td>\n",
       "    </tr>\n",
       "    <tr>\n",
       "      <th>2</th>\n",
       "      <td>28206</td>\n",
       "      <td>23940.36</td>\n",
       "    </tr>\n",
       "    <tr>\n",
       "      <th>3</th>\n",
       "      <td>144072</td>\n",
       "      <td>9.45</td>\n",
       "    </tr>\n",
       "    <tr>\n",
       "      <th>4</th>\n",
       "      <td>78120</td>\n",
       "      <td>1393.3</td>\n",
       "    </tr>\n",
       "  </tbody>\n",
       "</table>\n",
       "</div>"
      ],
      "text/plain": [
       "       id       pnb\n",
       "0   87631   1022.21\n",
       "1  120851    224.41\n",
       "2   28206  23940.36\n",
       "3  144072      9.45\n",
       "4   78120    1393.3"
      ]
     },
     "execution_count": 32,
     "metadata": {},
     "output_type": "execute_result"
    }
   ],
   "source": [
    "df_PNB.head()"
   ]
  },
  {
   "cell_type": "markdown",
   "metadata": {},
   "source": [
    "### Credit / Debit (Merge databases (client & transaction)"
   ]
  },
  {
   "cell_type": "code",
   "execution_count": 33,
   "metadata": {},
   "outputs": [],
   "source": [
    "from functools import reduce\n",
    "\n",
    "def compute_credit_debit_unstacked(data, list_dwp, timelag_n, aggreg):\n",
    "    \"\"\"\n",
    "    Compute credit or debit amounts of last N months for each dwp\n",
    "    :param data: pandas DataFrame\n",
    "    :param list_dwp: list of dates in format int, e.g, \"201601\"\n",
    "    :param aggreg: pandas DataFrame\n",
    "    :param timelag: list of unique RADICAUX\n",
    "    :param timelag_n: int that indicates the number of previous months to take\n",
    "\n",
    "    \"\"\"\n",
    "    to_merge = pd.DataFrame()\n",
    "    for i in range(len(list_dwp)):\n",
    "        filter_col = [col for col in data if (col <= list_dwp[i])]\n",
    "        datatemp = data[filter_col]\n",
    "        datatemp = datatemp[datatemp.columns[-timelag_n:]]\n",
    "        datatemp.columns = map((aggreg + '_{}_MONTH_AGO').format, range(timelag_n, 0, -1))\n",
    "        datatemp['DWP'] = list_dwp[i]\n",
    "        datatemp.set_index('DWP', append=True, inplace=True)\n",
    "        to_merge = pd.concat([to_merge, datatemp])\n",
    "\n",
    "    return to_merge.reset_index()"
   ]
  },
  {
   "cell_type": "code",
   "execution_count": 34,
   "metadata": {},
   "outputs": [],
   "source": [
    "def credit_last_n_months(df_transactions, list_clients, list_dwp, timelag_n, aggreg):\n",
    "    \"\"\"\n",
    "    Return credit amounts on last n months\n",
    "    :param df_transactions: pandas DataFrame\n",
    "    :param df_clients: pandas DataFrame\n",
    "    :param list_clients: list of unique RADICAUX\n",
    "    :param list_dwp: list of dates in format int, e.g, \"201601\"\n",
    "    :param timelag_n: int that indicates the number of previous months to take\n",
    "    :return: pandas DataFrame\n",
    "    \"\"\"\n",
    "    # arrange df_transactions\n",
    "    df_transactions = df_transactions[df_transactions.id.isin(list_clients)]\n",
    "    df_transactions['DWP_TRX'] = df_transactions['ANNEE'] * 100 + df_transactions['MOIS']\n",
    "    df_transactions = df_transactions[['DWP_TRX', 'id', 'MONTANT']]\n",
    "    df_transactions = df_transactions[df_transactions['MONTANT'] >= 0].rename(columns={'MONTANT': aggreg})\n",
    "\n",
    "    # group and unstack transactions\n",
    "    transactions_grouped = df_transactions.groupby(['DWP_TRX', 'id'])[ \\\n",
    "        aggreg].sum().unstack('DWP_TRX').fillna(0)\n",
    "\n",
    "    # compute last N monthly amounts previous to dwp\n",
    "    df_res = compute_credit_debit_unstacked(transactions_grouped, list_dwp, timelag_n, aggreg = aggreg)\n",
    "\n",
    "    # fill with all clients\n",
    "    df_clients = pd.DataFrame(list_clients, columns=['id'])\n",
    "    df_dates = pd.DataFrame(list_dwp, columns=['DWP'])\n",
    "    df_clients_dates = df_clients.assign(temp=1).merge(df_dates.assign(temp=1)).drop(\"temp\", 1)\n",
    "    df_final = df_clients_dates.merge(df_res, how='left', on=['id', 'DWP']).fillna(0)\n",
    "\n",
    "    return df_final"
   ]
  },
  {
   "cell_type": "code",
   "execution_count": 35,
   "metadata": {},
   "outputs": [],
   "source": [
    "def debit_last_n_months(df_transactions, list_clients, list_dwp, timelag_n, aggreg):\n",
    "    \"\"\"\n",
    "    Return debit amounts on last n months\n",
    "    :param df_transactions: pandas DataFrame\n",
    "    :param df_clients: pandas DataFrame\n",
    "    :param list_clients: list of unique RADICAUX\n",
    "    :param list_dwp: list of dates in format int, e.g, \"201601\"\n",
    "    :param timelag_n: int that indicates the number of previous months to take\n",
    "    :return: pandas DataFrame\n",
    "    \"\"\"\n",
    "    # arrange df_transactions\n",
    "    df_transactions = df_transactions[df_transactions.id.isin(list_clients)]\n",
    "    df_transactions['DWP_TRX'] = df_transactions['ANNEE'] * 100 + df_transactions['MOIS']\n",
    "    df_transactions = df_transactions[['DWP_TRX', 'id', 'MONTANT']]\n",
    "    #df_transactions[aggreg] = df_transactions.MONTANT[df_transactions['MONTANT'] < 0]\n",
    "    df_transactions = df_transactions[df_transactions['MONTANT'] < 0].rename(columns={'MONTANT': aggreg})\n",
    "\n",
    "    # group and unstack transactions\n",
    "    transactions_grouped = df_transactions.groupby(['DWP_TRX', 'id'])[ \\\n",
    "        aggreg].sum().unstack('DWP_TRX').fillna(0)\n",
    "\n",
    "    # compute last N monthly amounts previous to dwp\n",
    "    df_res = compute_credit_debit_unstacked(transactions_grouped, list_dwp, timelag_n, aggreg = aggreg)\n",
    "\n",
    "    # fill with all clients\n",
    "    df_clients = pd.DataFrame(list_clients, columns=['id'])\n",
    "    df_dates = pd.DataFrame(list_dwp, columns=['DWP'])\n",
    "    df_clients_dates = df_clients.assign(temp=1).merge(df_dates.assign(temp=1)).drop(\"temp\", 1)\n",
    "    df_final = df_clients_dates.merge(df_res, how='left', on=['id', 'DWP']).fillna(0)\n",
    "\n",
    "    return df_final"
   ]
  },
  {
   "cell_type": "code",
   "execution_count": 36,
   "metadata": {},
   "outputs": [],
   "source": [
    "df_CREDIT_NMONTHS = credit_last_n_months(transaction, listid, listdates, 6, 'CREDIT')"
   ]
  },
  {
   "cell_type": "code",
   "execution_count": 37,
   "metadata": {},
   "outputs": [
    {
     "data": {
      "text/html": [
       "<div>\n",
       "<style scoped>\n",
       "    .dataframe tbody tr th:only-of-type {\n",
       "        vertical-align: middle;\n",
       "    }\n",
       "\n",
       "    .dataframe tbody tr th {\n",
       "        vertical-align: top;\n",
       "    }\n",
       "\n",
       "    .dataframe thead th {\n",
       "        text-align: right;\n",
       "    }\n",
       "</style>\n",
       "<table border=\"1\" class=\"dataframe\">\n",
       "  <thead>\n",
       "    <tr style=\"text-align: right;\">\n",
       "      <th></th>\n",
       "      <th>id</th>\n",
       "      <th>DWP</th>\n",
       "      <th>CREDIT_6_MONTH_AGO</th>\n",
       "      <th>CREDIT_5_MONTH_AGO</th>\n",
       "      <th>CREDIT_4_MONTH_AGO</th>\n",
       "      <th>CREDIT_3_MONTH_AGO</th>\n",
       "      <th>CREDIT_2_MONTH_AGO</th>\n",
       "      <th>CREDIT_1_MONTH_AGO</th>\n",
       "    </tr>\n",
       "  </thead>\n",
       "  <tbody>\n",
       "    <tr>\n",
       "      <th>0</th>\n",
       "      <td>87631</td>\n",
       "      <td>201707</td>\n",
       "      <td>1000.0</td>\n",
       "      <td>0.0</td>\n",
       "      <td>1000.0</td>\n",
       "      <td>0.0</td>\n",
       "      <td>0.0</td>\n",
       "      <td>2351.0</td>\n",
       "    </tr>\n",
       "    <tr>\n",
       "      <th>1</th>\n",
       "      <td>87631</td>\n",
       "      <td>201710</td>\n",
       "      <td>0.0</td>\n",
       "      <td>0.0</td>\n",
       "      <td>2351.0</td>\n",
       "      <td>2351.0</td>\n",
       "      <td>2351.0</td>\n",
       "      <td>2351.0</td>\n",
       "    </tr>\n",
       "    <tr>\n",
       "      <th>2</th>\n",
       "      <td>87631</td>\n",
       "      <td>201801</td>\n",
       "      <td>2351.0</td>\n",
       "      <td>2351.0</td>\n",
       "      <td>2351.0</td>\n",
       "      <td>2351.0</td>\n",
       "      <td>2351.0</td>\n",
       "      <td>2351.0</td>\n",
       "    </tr>\n",
       "    <tr>\n",
       "      <th>3</th>\n",
       "      <td>87631</td>\n",
       "      <td>201804</td>\n",
       "      <td>2351.0</td>\n",
       "      <td>2351.0</td>\n",
       "      <td>2351.0</td>\n",
       "      <td>2351.0</td>\n",
       "      <td>2351.0</td>\n",
       "      <td>2351.0</td>\n",
       "    </tr>\n",
       "    <tr>\n",
       "      <th>4</th>\n",
       "      <td>87631</td>\n",
       "      <td>201807</td>\n",
       "      <td>2351.0</td>\n",
       "      <td>2351.0</td>\n",
       "      <td>2351.0</td>\n",
       "      <td>6351.0</td>\n",
       "      <td>2351.0</td>\n",
       "      <td>2351.0</td>\n",
       "    </tr>\n",
       "  </tbody>\n",
       "</table>\n",
       "</div>"
      ],
      "text/plain": [
       "      id     DWP  CREDIT_6_MONTH_AGO  CREDIT_5_MONTH_AGO  CREDIT_4_MONTH_AGO  \\\n",
       "0  87631  201707              1000.0                 0.0              1000.0   \n",
       "1  87631  201710                 0.0                 0.0              2351.0   \n",
       "2  87631  201801              2351.0              2351.0              2351.0   \n",
       "3  87631  201804              2351.0              2351.0              2351.0   \n",
       "4  87631  201807              2351.0              2351.0              2351.0   \n",
       "\n",
       "   CREDIT_3_MONTH_AGO  CREDIT_2_MONTH_AGO  CREDIT_1_MONTH_AGO  \n",
       "0                 0.0                 0.0              2351.0  \n",
       "1              2351.0              2351.0              2351.0  \n",
       "2              2351.0              2351.0              2351.0  \n",
       "3              2351.0              2351.0              2351.0  \n",
       "4              6351.0              2351.0              2351.0  "
      ]
     },
     "execution_count": 37,
     "metadata": {},
     "output_type": "execute_result"
    }
   ],
   "source": [
    "df_CREDIT_NMONTHS.head()"
   ]
  },
  {
   "cell_type": "code",
   "execution_count": 38,
   "metadata": {},
   "outputs": [],
   "source": [
    "df_DEBIT_NMONTHS = debit_last_n_months(transaction, listid, listdates, 6, 'DEBIT')"
   ]
  },
  {
   "cell_type": "code",
   "execution_count": 39,
   "metadata": {},
   "outputs": [
    {
     "data": {
      "text/html": [
       "<div>\n",
       "<style scoped>\n",
       "    .dataframe tbody tr th:only-of-type {\n",
       "        vertical-align: middle;\n",
       "    }\n",
       "\n",
       "    .dataframe tbody tr th {\n",
       "        vertical-align: top;\n",
       "    }\n",
       "\n",
       "    .dataframe thead th {\n",
       "        text-align: right;\n",
       "    }\n",
       "</style>\n",
       "<table border=\"1\" class=\"dataframe\">\n",
       "  <thead>\n",
       "    <tr style=\"text-align: right;\">\n",
       "      <th></th>\n",
       "      <th>id</th>\n",
       "      <th>DWP</th>\n",
       "      <th>DEBIT_6_MONTH_AGO</th>\n",
       "      <th>DEBIT_5_MONTH_AGO</th>\n",
       "      <th>DEBIT_4_MONTH_AGO</th>\n",
       "      <th>DEBIT_3_MONTH_AGO</th>\n",
       "      <th>DEBIT_2_MONTH_AGO</th>\n",
       "      <th>DEBIT_1_MONTH_AGO</th>\n",
       "    </tr>\n",
       "  </thead>\n",
       "  <tbody>\n",
       "    <tr>\n",
       "      <th>0</th>\n",
       "      <td>87631</td>\n",
       "      <td>201707</td>\n",
       "      <td>-102.0</td>\n",
       "      <td>-215.0</td>\n",
       "      <td>-116.0</td>\n",
       "      <td>-15.0</td>\n",
       "      <td>-15.0</td>\n",
       "      <td>-15.0</td>\n",
       "    </tr>\n",
       "    <tr>\n",
       "      <th>1</th>\n",
       "      <td>87631</td>\n",
       "      <td>201710</td>\n",
       "      <td>-15.0</td>\n",
       "      <td>-15.0</td>\n",
       "      <td>-15.0</td>\n",
       "      <td>-15.0</td>\n",
       "      <td>-15.0</td>\n",
       "      <td>-15.0</td>\n",
       "    </tr>\n",
       "    <tr>\n",
       "      <th>2</th>\n",
       "      <td>87631</td>\n",
       "      <td>201801</td>\n",
       "      <td>-15.0</td>\n",
       "      <td>-15.0</td>\n",
       "      <td>-15.0</td>\n",
       "      <td>-15.0</td>\n",
       "      <td>-15.0</td>\n",
       "      <td>-15.0</td>\n",
       "    </tr>\n",
       "    <tr>\n",
       "      <th>3</th>\n",
       "      <td>87631</td>\n",
       "      <td>201804</td>\n",
       "      <td>-15.0</td>\n",
       "      <td>-15.0</td>\n",
       "      <td>-15.0</td>\n",
       "      <td>-101.0</td>\n",
       "      <td>-15.0</td>\n",
       "      <td>-15.0</td>\n",
       "    </tr>\n",
       "    <tr>\n",
       "      <th>4</th>\n",
       "      <td>87631</td>\n",
       "      <td>201807</td>\n",
       "      <td>-101.0</td>\n",
       "      <td>-15.0</td>\n",
       "      <td>-15.0</td>\n",
       "      <td>-20.0</td>\n",
       "      <td>-15.0</td>\n",
       "      <td>-15.0</td>\n",
       "    </tr>\n",
       "  </tbody>\n",
       "</table>\n",
       "</div>"
      ],
      "text/plain": [
       "      id     DWP  DEBIT_6_MONTH_AGO  DEBIT_5_MONTH_AGO  DEBIT_4_MONTH_AGO  \\\n",
       "0  87631  201707             -102.0             -215.0             -116.0   \n",
       "1  87631  201710              -15.0              -15.0              -15.0   \n",
       "2  87631  201801              -15.0              -15.0              -15.0   \n",
       "3  87631  201804              -15.0              -15.0              -15.0   \n",
       "4  87631  201807             -101.0              -15.0              -15.0   \n",
       "\n",
       "   DEBIT_3_MONTH_AGO  DEBIT_2_MONTH_AGO  DEBIT_1_MONTH_AGO  \n",
       "0              -15.0              -15.0              -15.0  \n",
       "1              -15.0              -15.0              -15.0  \n",
       "2              -15.0              -15.0              -15.0  \n",
       "3             -101.0              -15.0              -15.0  \n",
       "4              -20.0              -15.0              -15.0  "
      ]
     },
     "execution_count": 39,
     "metadata": {},
     "output_type": "execute_result"
    }
   ],
   "source": [
    "df_DEBIT_NMONTHS.head()"
   ]
  },
  {
   "cell_type": "markdown",
   "metadata": {},
   "source": [
    "### Gender"
   ]
  },
  {
   "cell_type": "code",
   "execution_count": 40,
   "metadata": {},
   "outputs": [],
   "source": [
    "def gender(df_clients):\n",
    "    df=df_clients[[\"id\",\"sexe\"]]\n",
    "    df=df.drop_duplicates(\"id\")\n",
    "    df[\"GENRE\"]=0\n",
    "    df.loc[df.sexe == \"Homme\",'GENRE']= 1\n",
    "    return df[[\"id\",\"GENRE\"]]"
   ]
  },
  {
   "cell_type": "code",
   "execution_count": 41,
   "metadata": {},
   "outputs": [],
   "source": [
    "df_SEXE = gender(client)"
   ]
  },
  {
   "cell_type": "code",
   "execution_count": 43,
   "metadata": {},
   "outputs": [
    {
     "data": {
      "text/html": [
       "<div>\n",
       "<style scoped>\n",
       "    .dataframe tbody tr th:only-of-type {\n",
       "        vertical-align: middle;\n",
       "    }\n",
       "\n",
       "    .dataframe tbody tr th {\n",
       "        vertical-align: top;\n",
       "    }\n",
       "\n",
       "    .dataframe thead th {\n",
       "        text-align: right;\n",
       "    }\n",
       "</style>\n",
       "<table border=\"1\" class=\"dataframe\">\n",
       "  <thead>\n",
       "    <tr style=\"text-align: right;\">\n",
       "      <th></th>\n",
       "      <th>id</th>\n",
       "      <th>GENRE</th>\n",
       "    </tr>\n",
       "  </thead>\n",
       "  <tbody>\n",
       "    <tr>\n",
       "      <th>0</th>\n",
       "      <td>87631</td>\n",
       "      <td>1</td>\n",
       "    </tr>\n",
       "    <tr>\n",
       "      <th>1</th>\n",
       "      <td>120851</td>\n",
       "      <td>1</td>\n",
       "    </tr>\n",
       "    <tr>\n",
       "      <th>2</th>\n",
       "      <td>28206</td>\n",
       "      <td>1</td>\n",
       "    </tr>\n",
       "    <tr>\n",
       "      <th>3</th>\n",
       "      <td>144072</td>\n",
       "      <td>1</td>\n",
       "    </tr>\n",
       "  </tbody>\n",
       "</table>\n",
       "</div>"
      ],
      "text/plain": [
       "       id  GENRE\n",
       "0   87631      1\n",
       "1  120851      1\n",
       "2   28206      1\n",
       "3  144072      1"
      ]
     },
     "execution_count": 43,
     "metadata": {},
     "output_type": "execute_result"
    }
   ],
   "source": [
    "df_SEXE.head(4)"
   ]
  },
  {
   "cell_type": "markdown",
   "metadata": {},
   "source": [
    "### Create the variable \"TARGET\""
   ]
  },
  {
   "cell_type": "code",
   "execution_count": 58,
   "metadata": {},
   "outputs": [],
   "source": [
    "import pandas as pd\n",
    "from collections import defaultdict\n",
    "from dateutil.relativedelta import relativedelta\n",
    "\n",
    "\n",
    "def get_labels(df_clients, df_transaction, start_dates, lookahead, periodicity):\n",
    "    dfs = []\n",
    "    for start_date in start_dates:\n",
    "        dfs.append(get_labels_once(df_clients, df_transaction, start_date, lookahead, periodicity))\n",
    "    return pd.concat(dfs)\n",
    "\n",
    "\n",
    "def get_labels_once(df_clients, df_transaction, start_date, lookahead, periodicity):\n",
    "    \"\"\" Flag clients who who took loan in next 'lookahead' months (or, more generally, periodicity) counting from 'start_date'\n",
    "    Args:\n",
    "        df_clients: dataframe containing client data\n",
    "        df_loans: dataframe containing loans data\n",
    "        start_date: date from which flags begin. This date should be of type int\n",
    "        lookahead: in months (or periodicity), time ahead to check if a client contracted loan\n",
    "        periodicity: week, month or quarter\n",
    "    Returns:\n",
    "        a dataframe with client id and a column with 0 for clients who did not contract any loans in given perio and 1 otherwise\n",
    "    \"\"\"\n",
    "\n",
    "    transaction_copy = transaction.copy()\n",
    "    transaction_copy[\"DATE_TRANSACTION\"] = transaction_copy[\"ANNEE\"]*100+transaction_copy[\"MOIS\"]\n",
    "    \n",
    "    \n",
    "    \n",
    "    \n",
    "    # TODO: add other periodicities (e.g. week, quarter)\n",
    "    transaction_copy.DATE_TRANSACTION = pd.to_datetime(transaction_copy.DATE_TRANSACTION, format='%Y%m')\n",
    "\n",
    "    if (periodicity == \"m\") or (periodicity == \"month\"):\n",
    "        # month = lookahead % 100\n",
    "        # year = lookahead // 100\n",
    "\n",
    "        start_date_int = start_date\n",
    "\n",
    "        # Ones\n",
    "        start_date = pd.to_datetime(start_date, format=\"%Y%m\") + relativedelta(months=1)\n",
    "        end_date = start_date + relativedelta(months=lookahead)\n",
    "\n",
    "        df = transaction_copy[[\"id\", \"DATE_TRANSACTION\"]]\n",
    "        df = df[df[\"DATE_TRANSACTION\"] >= start_date]\n",
    "        df = df[df[\"DATE_TRANSACTION\"] <= end_date]\n",
    "        df[\"DWP\"] = start_date_int\n",
    "        df[\"TARGET\"] = 0\n",
    "        df.drop(\"DATE_TRANSACTION\", axis=1, inplace=True)\n",
    "\n",
    "        # Zeros\n",
    "        ones = df[\"id\"]\n",
    "        all_client_ids = df_clients[\"id\"].to_frame()\n",
    "        all_client_ids.drop_duplicates(inplace=True)\n",
    "        zeros = all_client_ids[~all_client_ids.id.isin(ones.copy())].copy()\n",
    "        zeros[\"DWP\"] = start_date_int\n",
    "        zeros[\"TARGET\"] = 1\n",
    "        return pd.concat([df, zeros], sort=False)\n",
    "    else:\n",
    "        raise Exception(\"Not yet implemented\")\n"
   ]
  },
  {
   "cell_type": "code",
   "execution_count": 59,
   "metadata": {},
   "outputs": [],
   "source": [
    "target=get_labels(client,transaction, listdates, 6, \"m\")"
   ]
  },
  {
   "cell_type": "code",
   "execution_count": 60,
   "metadata": {},
   "outputs": [
    {
     "data": {
      "text/plain": [
       "0    29049955\n",
       "1      399127\n",
       "Name: TARGET, dtype: int64"
      ]
     },
     "execution_count": 60,
     "metadata": {},
     "output_type": "execute_result"
    }
   ],
   "source": [
    "target[\"TARGET\"].value_counts()"
   ]
  },
  {
   "cell_type": "markdown",
   "metadata": {},
   "source": [
    "### Delete the duplicate"
   ]
  },
  {
   "cell_type": "code",
   "execution_count": 61,
   "metadata": {},
   "outputs": [],
   "source": [
    "df_SEXE.drop_duplicates([\"id\"],inplace = True)\n",
    "df_MARITAL.rename(columns={\"ID\":'id'}, inplace = True )\n",
    "df_MARITAL.drop_duplicates([\"id\"],inplace = True)\n",
    "df_VILLE.rename(columns={\"ID\":'id'}, inplace = True)\n",
    "df_VILLE.drop_duplicates([\"id\"],inplace = True)\n",
    "df_CREDIT_NMONTHS.drop_duplicates([\"id\",\"DWP\"],inplace = True)\n",
    "df_DEBIT_NMONTHS.drop_duplicates([\"id\",\"DWP\"],inplace = True)\n",
    "target.drop_duplicates([\"id\",\"DWP\"],inplace = True)"
   ]
  },
  {
   "cell_type": "markdown",
   "metadata": {},
   "source": [
    "### Merge the feautures by \"id\" & \"DWP\""
   ]
  },
  {
   "cell_type": "code",
   "execution_count": 62,
   "metadata": {},
   "outputs": [],
   "source": [
    "from functools import reduce\n",
    "\n",
    "dfs = [df_AGE, df_SEXE, df_PNB, df_MARITAL, df_VILLE, df_CREDIT_NMONTHS, df_DEBIT_NMONTHS,target]\n",
    "\n",
    "# Merging features\n",
    "dffinal = reduce(lambda left, right: pd.merge(left, right, on=list(\n",
    "            {'DWP', 'id'} & set(right.columns)), how='left'), dfs)"
   ]
  },
  {
   "cell_type": "code",
   "execution_count": 63,
   "metadata": {},
   "outputs": [],
   "source": [
    "dffinal.pnb = dffinal.pnb.astype(float)"
   ]
  },
  {
   "cell_type": "markdown",
   "metadata": {},
   "source": [
    "### Adjust missing values"
   ]
  },
  {
   "cell_type": "code",
   "execution_count": 64,
   "metadata": {},
   "outputs": [],
   "source": [
    "dffinal.AGE.fillna(dffinal.AGE.mean(), inplace=True)"
   ]
  },
  {
   "cell_type": "code",
   "execution_count": 65,
   "metadata": {},
   "outputs": [],
   "source": [
    "dffinal.pnb = dffinal.pnb.fillna(0)"
   ]
  },
  {
   "cell_type": "markdown",
   "metadata": {},
   "source": [
    "### Correlation Matrix"
   ]
  },
  {
   "cell_type": "code",
   "execution_count": 56,
   "metadata": {},
   "outputs": [
    {
     "data": {
      "image/png": "[encoded data removed]",
      "text/plain": [
       "<Figure size 1224x1224 with 2 Axes>"
      ]
     },
     "metadata": {
      "needs_background": "light"
     },
     "output_type": "display_data"
    }
   ],
   "source": [
    "plt.figure(figsize=(17, 17))\n",
    "g = sns.heatmap(dffinal.corr(), annot=True, cmap='coolwarm', square=True, fmt='.1f')"
   ]
  },
  {
   "cell_type": "markdown",
   "metadata": {},
   "source": [
    "### Upload the new database"
   ]
  },
  {
   "cell_type": "code",
   "execution_count": 67,
   "metadata": {},
   "outputs": [],
   "source": [
    "dffinal.to_csv(\"dffinal.csv\")"
   ]
  },
  {
   "cell_type": "markdown",
   "metadata": {},
   "source": [
    "# Model Training"
   ]
  },
  {
   "cell_type": "code",
   "execution_count": 68,
   "metadata": {},
   "outputs": [],
   "source": [
    "df_train = dffinal[dffinal.DWP <= 201901]\n",
    "df_test = dffinal[dffinal.DWP > 201901]\n"
   ]
  },
  {
   "cell_type": "code",
   "execution_count": 69,
   "metadata": {},
   "outputs": [],
   "source": [
    "from sklearn.ensemble import RandomForestClassifier #library for machine learning / ensemble = Methode d'ensemble\n",
    "\n",
    "y= df_train.TARGET\n",
    "x= df_train.drop([\"TARGET\",'id',\"DWP\"],axis = 1).values\n"
   ]
  },
  {
   "cell_type": "markdown",
   "metadata": {},
   "source": [
    "## Random Forest"
   ]
  },
  {
   "cell_type": "code",
   "execution_count": 71,
   "metadata": {},
   "outputs": [],
   "source": [
    "RF_classifier = RandomForestClassifier()\n"
   ]
  },
  {
   "cell_type": "code",
   "execution_count": 72,
   "metadata": {},
   "outputs": [
    {
     "data": {
      "text/plain": [
       "RandomForestClassifier()"
      ]
     },
     "execution_count": 72,
     "metadata": {},
     "output_type": "execute_result"
    }
   ],
   "source": [
    "# Fit : entrainer le modele (x,y) / Predict : recoie en parametre seulement les x (un modele deja existe)\n",
    "\n",
    "RF_classifier.fit(x,y)\n"
   ]
  },
  {
   "cell_type": "code",
   "execution_count": 73,
   "metadata": {},
   "outputs": [
    {
     "data": {
      "text/plain": [
       "array([0, 0, 0, ..., 0, 0, 0], dtype=int64)"
      ]
     },
     "execution_count": 73,
     "metadata": {},
     "output_type": "execute_result"
    }
   ],
   "source": [
    "x_test = df_test.drop([\"TARGET\",'id',\"DWP\"],axis = 1).values\n",
    "RF_classifier.predict(x_test)\n"
   ]
  },
  {
   "cell_type": "code",
   "execution_count": 75,
   "metadata": {},
   "outputs": [],
   "source": [
    "prediction = RF_classifier.predict(x_test)\n",
    "prediction2 = RF_classifier.predict_proba(x_test)\n"
   ]
  },
  {
   "cell_type": "markdown",
   "metadata": {},
   "source": [
    "## Logistic Regression"
   ]
  },
  {
   "cell_type": "code",
   "execution_count": 78,
   "metadata": {},
   "outputs": [
    {
     "name": "stderr",
     "output_type": "stream",
     "text": [
      "C:\\Users\\Mohammed\\anaconda3\\lib\\site-packages\\sklearn\\linear_model\\_logistic.py:762: ConvergenceWarning: lbfgs failed to converge (status=1):\n",
      "STOP: TOTAL NO. of ITERATIONS REACHED LIMIT.\n",
      "\n",
      "Increase the number of iterations (max_iter) or scale the data as shown in:\n",
      "    https://scikit-learn.org/stable/modules/preprocessing.html\n",
      "Please also refer to the documentation for alternative solver options:\n",
      "    https://scikit-learn.org/stable/modules/linear_model.html#logistic-regression\n",
      "  n_iter_i = _check_optimize_result(\n"
     ]
    },
    {
     "data": {
      "text/plain": [
       "LogisticRegression()"
      ]
     },
     "execution_count": 78,
     "metadata": {},
     "output_type": "execute_result"
    }
   ],
   "source": [
    "from sklearn.linear_model import LogisticRegression\n",
    "model_logistic = LogisticRegression()\n",
    "model_logistic.fit(x, y)"
   ]
  },
  {
   "cell_type": "code",
   "execution_count": 79,
   "metadata": {},
   "outputs": [],
   "source": [
    "y_pred_logistic = model_logistic.decision_function(x)"
   ]
  },
  {
   "cell_type": "markdown",
   "metadata": {},
   "source": [
    "# Evaluation of the model"
   ]
  },
  {
   "cell_type": "markdown",
   "metadata": {},
   "source": [
    "## Random Forest"
   ]
  },
  {
   "cell_type": "code",
   "execution_count": 76,
   "metadata": {
    "scrolled": true
   },
   "outputs": [
    {
     "name": "stdout",
     "output_type": "stream",
     "text": [
      "              precision    recall  f1-score   support\n",
      "\n",
      "           0       0.99      0.99      0.99   1699987\n",
      "           1       0.93      0.96      0.95    309818\n",
      "\n",
      "    accuracy                           0.98   2009805\n",
      "   macro avg       0.96      0.98      0.97   2009805\n",
      "weighted avg       0.98      0.98      0.98   2009805\n",
      "\n"
     ]
    }
   ],
   "source": [
    "from sklearn.metrics import accuracy_score\n",
    "from sklearn.metrics import classification_report\n",
    "from sklearn.metrics import roc_auc_score\n",
    "from sklearn.metrics import roc_curve\n",
    "t = df_train.drop([\"id\",\"DWP\"],axis = 1)\n",
    "print(classification_report(t.TARGET,  RF_classifier.predict(t.loc[:, t.columns != 'TARGET'])))\n"
   ]
  },
  {
   "cell_type": "code",
   "execution_count": 77,
   "metadata": {},
   "outputs": [
    {
     "data": {
      "image/png": "[encoded data removed]",
      "text/plain": [
       "<Figure size 500x500 with 1 Axes>"
      ]
     },
     "metadata": {
      "needs_background": "light"
     },
     "output_type": "display_data"
    }
   ],
   "source": [
    "from sklearn.metrics import roc_curve, auc\n",
    "\n",
    "RF_fpr, RF_tpr, threshold = roc_curve(t.TARGET, RF_classifier.predict(t.loc[:, t.columns != 'TARGET']))\n",
    "auc_RF = auc(RF_fpr, RF_tpr)\n",
    "\n",
    "\n",
    "plt.figure(figsize=(5, 5), dpi=100)\n",
    "\n",
    "plt.plot(RF_fpr, RF_tpr, marker='.', label='Random Forest (auc = %0.3f)' % auc_RF)\n",
    "\n",
    "plt.xlabel('False Positive Rate -->')\n",
    "plt.ylabel('True Positive Rate -->')\n",
    "\n",
    "plt.legend()\n",
    "\n",
    "plt.show()\n"
   ]
  },
  {
   "cell_type": "code",
   "execution_count": 82,
   "metadata": {},
   "outputs": [
    {
     "name": "stdout",
     "output_type": "stream",
     "text": [
      "0.9754894375007358\n"
     ]
    }
   ],
   "source": [
    "print(auc_RF)\n"
   ]
  },
  {
   "cell_type": "markdown",
   "metadata": {},
   "source": [
    "## Logistic Regression"
   ]
  },
  {
   "cell_type": "code",
   "execution_count": 80,
   "metadata": {},
   "outputs": [
    {
     "data": {
      "image/png": "[encoded data removed]",
      "text/plain": [
       "<Figure size 500x500 with 1 Axes>"
      ]
     },
     "metadata": {
      "needs_background": "light"
     },
     "output_type": "display_data"
    }
   ],
   "source": [
    "from sklearn.metrics import roc_curve, auc\n",
    "\n",
    "\n",
    "\n",
    "logistic_fpr, logistic_tpr, threshold = roc_curve(t.TARGET, y_pred_logistic)\n",
    "auc_logistic = auc(logistic_fpr, logistic_tpr)\n",
    "\n",
    "plt.figure(figsize=(5, 5), dpi=100)\n",
    "\n",
    "\n",
    "plt.plot(logistic_fpr, logistic_tpr, marker='.', label='Logistic (auc = %0.3f)' % auc_logistic)\n",
    "plt.xlabel('False Positive Rate -->')\n",
    "plt.ylabel('True Positive Rate -->')\n",
    "\n",
    "plt.legend()\n",
    "\n",
    "plt.show()"
   ]
  },
  {
   "cell_type": "code",
   "execution_count": 81,
   "metadata": {},
   "outputs": [
    {
     "name": "stdout",
     "output_type": "stream",
     "text": [
      "0.8076597872726788\n"
     ]
    }
   ],
   "source": [
    "print(auc_logistic)"
   ]
  }
 ],
 "metadata": {
  "kernelspec": {
   "display_name": "Python 3",
   "language": "python",
   "name": "python3"
  },
  "language_info": {
   "codemirror_mode": {
    "name": "ipython",
    "version": 3
   },
   "file_extension": ".py",
   "mimetype": "text/x-python",
   "name": "python",
   "nbconvert_exporter": "python",
   "pygments_lexer": "ipython3",
   "version": "3.8.5"
  }
 },
 "nbformat": 4,
 "nbformat_minor": 4
}
